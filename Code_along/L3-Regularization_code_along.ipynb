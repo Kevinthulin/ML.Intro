{
 "cells": [
  {
   "cell_type": "code",
   "execution_count": 13,
   "metadata": {},
   "outputs": [
    {
     "data": {
      "text/plain": [
       "(134, 19)"
      ]
     },
     "execution_count": 13,
     "metadata": {},
     "output_type": "execute_result"
    }
   ],
   "source": [
    "import numpy as np\n",
    "import pandas as pd\n",
    "import matplotlib.pyplot as plt\n",
    "\n",
    "from sklearn.preprocessing import PolynomialFeatures\n",
    "from sklearn.model_selection import train_test_split\n",
    "\n",
    "df = pd.read_csv(\"../data/Advertising.csv\", index_col=0)\n",
    "\n",
    "X, Y = df.drop(\"Sales\", axis = \"columns\"), df[\"Sales\"]\n",
    "\n",
    "model_polynomial = PolynomialFeatures(3, include_bias=False)\n",
    "poly_fatures = model_polynomial.fit_transform(X)\n",
    "\n",
    "X_train, X_test, Y_train, Y_test = train_test_split(poly_fatures, Y, test_size=0.33, random_state=69)\n",
    "X_train.shape"
   ]
  },
  {
   "cell_type": "code",
   "execution_count": 14,
   "metadata": {},
   "outputs": [
    {
     "data": {
      "text/plain": [
       "(3.34898382919136e-17, 0.12480168316025984)"
      ]
     },
     "execution_count": 14,
     "metadata": {},
     "output_type": "execute_result"
    }
   ],
   "source": [
    "from sklearn.preprocessing import StandardScaler\n",
    "\n",
    "scaler = StandardScaler()\n",
    "scaled_X_train = scaler.fit_transform(X_train)\n",
    "scaled_X_test = scaler.transform(X_test)\n",
    "\n",
    "scaled_X_train.mean(), scaled_X_test.mean()"
   ]
  },
  {
   "cell_type": "code",
   "execution_count": 15,
   "metadata": {},
   "outputs": [
    {
     "data": {
      "text/plain": [
       "(0.2816102952825163, 0.5306696668196857)"
      ]
     },
     "execution_count": 15,
     "metadata": {},
     "output_type": "execute_result"
    }
   ],
   "source": [
    "from sklearn.linear_model import Ridge\n",
    "from sklearn.metrics import mean_squared_error, mean_absolute_error\n",
    "\n",
    "model_ridge = Ridge(alpha=0.1)\n",
    "\n",
    "model_ridge.fit(scaled_X_train, Y_train)\n",
    "y_hat = model_ridge.predict(scaled_X_test)\n",
    "\n",
    "MSE = mean_squared_error(Y_test, y_hat)\n",
    "RMSE = np.sqrt(MSE)\n",
    "\n",
    "MSE, RMSE"
   ]
  },
  {
   "cell_type": "code",
   "execution_count": 16,
   "metadata": {},
   "outputs": [
    {
     "name": "stdout",
     "output_type": "stream",
     "text": [
      "[ 1.6249375   0.          0.         -0.          4.00349979  0.\n",
      "  0.          0.0041374   0.         -0.35316211 -0.         -0.\n",
      "  0.          0.          0.          0.          0.00912827  0.\n",
      "  0.        ]\n"
     ]
    },
    {
     "data": {
      "text/plain": [
       "0.857216832595549"
      ]
     },
     "execution_count": 16,
     "metadata": {},
     "output_type": "execute_result"
    }
   ],
   "source": [
    "from sklearn.linear_model import Lasso\n",
    "\n",
    "model_lasso = Lasso(alpha= 0.1)\n",
    "model_lasso.fit(scaled_X_train, Y_train)\n",
    "Y_hat = model_lasso.predict(scaled_X_test)\n",
    "\n",
    "print(model_lasso.coef_)\n",
    "\n",
    "np.sqrt(mean_squared_error(Y_test, Y_hat))"
   ]
  },
  {
   "cell_type": "code",
   "execution_count": 19,
   "metadata": {},
   "outputs": [
    {
     "name": "stdout",
     "output_type": "stream",
     "text": [
      "[  7.52689255   0.57996414   0.16204489 -11.60255076   5.57508917\n",
      "  -1.05258406  -1.18672588  -0.1562316    0.24351417   5.82223289\n",
      "  -1.79518878   1.1101629    0.27156058  -0.58793012   0.17391716\n",
      "   0.61123904   0.0853737    0.56933227  -0.48238378] \n",
      " 0.9916984838671971\n"
     ]
    },
    {
     "data": {
      "text/plain": [
       "0.0001"
      ]
     },
     "execution_count": 19,
     "metadata": {},
     "output_type": "execute_result"
    }
   ],
   "source": [
    "from sklearn.linear_model import RidgeCV\n",
    "\n",
    "model_ridgeCV = RidgeCV(alphas=[.0001, .001, .01, .1, 1, 5, 10], scoring=\"neg_mean_squared_error\")\n",
    "model_ridgeCV.fit(scaled_X_train, Y_train)\n",
    "print(model_ridgeCV.coef_, \"\\n\", model_ridgeCV.score(scaled_X_train, Y_train))\n",
    "model_ridgeCV.alpha_"
   ]
  },
  {
   "cell_type": "code",
   "execution_count": 22,
   "metadata": {},
   "outputs": [
    {
     "name": "stdout",
     "output_type": "stream",
     "text": [
      "0.004981947537762884\n"
     ]
    },
    {
     "data": {
      "text/plain": [
       "0.5209315071752452"
      ]
     },
     "execution_count": 22,
     "metadata": {},
     "output_type": "execute_result"
    }
   ],
   "source": [
    "from sklearn.linear_model import LassoCV\n",
    "\n",
    "model_lassoCV = LassoCV(eps=0.001, n_alphas= 100, max_iter=10000, cv=5)\n",
    "model_lassoCV.fit(scaled_X_train, Y_train)\n",
    "\n",
    "print(model_lassoCV.alpha_)\n",
    "Y_hat = model_lassoCV.predict(scaled_X_test)\n",
    "\n",
    "np.sqrt(mean_squared_error(Y_test, Y_hat))"
   ]
  },
  {
   "cell_type": "code",
   "execution_count": 27,
   "metadata": {},
   "outputs": [
    {
     "name": "stdout",
     "output_type": "stream",
     "text": [
      "L1 ratio: 1.0, \n",
      "alpha 0.004981947537762884\n"
     ]
    }
   ],
   "source": [
    "from sklearn.linear_model import ElasticNetCV\n",
    "\n",
    "model_elasticCV = ElasticNetCV(l1_ratio=[.1, .5, .7, .9, .99, 1], eps=0.001, n_alphas= 100, max_iter=100000)\n",
    "model_elasticCV.fit(scaled_X_train, Y_train)\n",
    "print(f\"L1 ratio: {model_elasticCV.l1_ratio_}, \\nalpha {model_elasticCV.alpha_}\")"
   ]
  },
  {
   "cell_type": "code",
   "execution_count": 28,
   "metadata": {},
   "outputs": [
    {
     "data": {
      "text/plain": [
       "0.5306696668196857"
      ]
     },
     "execution_count": 28,
     "metadata": {},
     "output_type": "execute_result"
    }
   ],
   "source": [
    "Y_hat = model_elasticCV.predict(scaled_X_test)\n",
    "np.sqrt(mean_squared_error(Y_test, y_hat))\n",
    "\n",
    "model_elasticCV."
   ]
  }
 ],
 "metadata": {
  "kernelspec": {
   "display_name": "ML.Intro-PzTQPhLc",
   "language": "python",
   "name": "python3"
  },
  "language_info": {
   "codemirror_mode": {
    "name": "ipython",
    "version": 3
   },
   "file_extension": ".py",
   "mimetype": "text/x-python",
   "name": "python",
   "nbconvert_exporter": "python",
   "pygments_lexer": "ipython3",
   "version": "3.11.5"
  }
 },
 "nbformat": 4,
 "nbformat_minor": 2
}
